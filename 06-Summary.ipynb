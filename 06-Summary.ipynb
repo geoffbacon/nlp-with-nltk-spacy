{
 "cells": [
  {
   "cell_type": "markdown",
   "metadata": {},
   "source": [
    "# Summary\n",
    "\n",
    "Congrats, you're done! \n",
    "\n",
    "[Other libraries for doing NLP in Python](#other)<br>\n",
    "\n",
    "[Where to from here?](#where)<br>\n",
    "\n",
    "### Time\n",
    "- Teaching: 5 minutes"
   ]
  },
  {
   "cell_type": "markdown",
   "metadata": {},
   "source": [
    "## Other libraries for doing NLP in Python <a id='other'></a>\n",
    "\n",
    "### [Scikit-learn](http://scikit-learn.org/stable/)\n",
    "\n",
    "- General machine learning library.\n",
    "- A lot of applied NLP problems are classification problems.\n",
    "- Includes some common preprocessing steps for [working with text](http://scikit-learn.org/stable/tutorial/text_analytics/working_with_text_data.html): document-term matrix and TF-IDF\n",
    "\n",
    "### [Gensim](https://radimrehurek.com/gensim/)\n",
    "\n",
    "- Topic modeling\n",
    "- word2vec in Python\n",
    "\n",
    "### [TextBlob](https://textblob.readthedocs.io/en/dev/)\n",
    "\n",
    "- Offers similar features to NLTK and spaCy\n",
    "\n",
    "### [polyglot](http://polyglot.readthedocs.io/en/latest/)\n",
    "\n",
    "- Focuses on multilingual support\n",
    "\n",
    "### [Python wrappers for CoreNLP](https://stanfordnlp.github.io/CoreNLP/other-languages.html#python)\n",
    "\n",
    "- (Close to) State-of-the-art models from Stanford.\n",
    "- CoreNLP is written in Java, but we can use a Python wrapper."
   ]
  },
  {
   "cell_type": "markdown",
   "metadata": {},
   "source": [
    "## Where to from here? <a id='where'></a>\n",
    "\n",
    "### [CTAWG](http://dlabctawg.github.io/)\n",
    "- Computational text analysis working group at the [D-Lab](http://dlab.berkeley.edu/).\n",
    "\n",
    "### [D-Lab consulting](http://dlab.berkeley.edu/consulting)\n",
    "- Can provide assistance on NLP projects.\n",
    "\n",
    "### [NLP with Python](http://www.nltk.org/book/)\n",
    "\n",
    "- Practical introduction to NLP using NLTK.\n",
    "\n",
    "### Future workshops at D-Lab\n",
    "- Under construction\n",
    "- Stay posted"
   ]
  }
 ],
 "metadata": {
  "anaconda-cloud": {},
  "kernelspec": {
   "display_name": "Python 3",
   "language": "python",
   "name": "python3"
  },
  "language_info": {
   "codemirror_mode": {
    "name": "ipython",
    "version": 3
   },
   "file_extension": ".py",
   "mimetype": "text/x-python",
   "name": "python",
   "nbconvert_exporter": "python",
   "pygments_lexer": "ipython3",
   "version": "3.6.1"
  }
 },
 "nbformat": 4,
 "nbformat_minor": 1
}
