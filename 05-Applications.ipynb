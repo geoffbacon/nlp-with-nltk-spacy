{
 "cells": [
  {
   "cell_type": "markdown",
   "metadata": {},
   "source": [
    "# Applications\n",
    "\n",
    "In this notebook, we're going to practice all our new skills!\n",
    "\n",
    "[State of the Union](#state)<br>\n",
    "\n",
    "[American university Wikipedia pages](#american)<br>\n",
    "\n",
    "### Time\n",
    "- Teaching: 5 minutes\n",
    "- Exercises: 45 minutes"
   ]
  },
  {
   "cell_type": "markdown",
   "metadata": {},
   "source": [
    "## State of the Union <a id='state'></a>\n",
    "\n",
    "Load the state of the Union corpus from NLTK.\n",
    "\n",
    "- Use sentiment analysis to score each sentence in each address. Average the compound sentiment over all sentences for each address. Who gave the top 3 most positive addresses? Who gave the top 3 most negative addresses? Are there patterns over time? Visualize the average sentiment of each addresses as a function of time.\n",
    "- Extract all the people, locations, countries and dates mentioned in the corpus. What are the most frequent entities in each category?\n",
    "- What is the average sentiment of each sentence that mentions: \"America\", \"freedom\", \"citizen(s)\", and \"justice\"?\n",
    "- What about the average sentiment of each sentence that mentions the bigram \"United States\"?\n",
    "- Pick two pairs of presidents: one pair that you think are politically similar, and one pair that you think are dissimilar. Compare the similarity of their addresses to each other."
   ]
  },
  {
   "cell_type": "code",
   "execution_count": 3,
   "metadata": {
    "collapsed": true
   },
   "outputs": [],
   "source": []
  },
  {
   "cell_type": "markdown",
   "metadata": {},
   "source": [
    "## American university Wikipedia pages <a id='american'></a>\n",
    "\n",
    "I've downloaded the text of wikipedia pages about:\n",
    "- Berkeley\n",
    "- Stanford\n",
    "- MIT\n",
    "- UCLA\n",
    "- Harvard\n",
    "- Yale\n",
    "\n",
    "- Which is more positive?\n",
    "- What (bigram) collocations do they have in common?"
   ]
  },
  {
   "cell_type": "code",
   "execution_count": 7,
   "metadata": {
    "collapsed": true
   },
   "outputs": [],
   "source": []
  }
 ],
 "metadata": {
  "anaconda-cloud": {},
  "kernelspec": {
   "display_name": "Python 3",
   "language": "python",
   "name": "python3"
  },
  "language_info": {
   "codemirror_mode": {
    "name": "ipython",
    "version": 3
   },
   "file_extension": ".py",
   "mimetype": "text/x-python",
   "name": "python",
   "nbconvert_exporter": "python",
   "pygments_lexer": "ipython3",
   "version": "3.6.1"
  }
 },
 "nbformat": 4,
 "nbformat_minor": 1
}
