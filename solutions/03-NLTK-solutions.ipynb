{
 "cells": [
  {
   "cell_type": "markdown",
   "metadata": {},
   "source": [
    "# NLTK\n",
    "\n",
    "NLTK is a large collection of NLP tools.We won't have time to cover everything, so we'll focus on the most common tools:\n",
    "\n",
    "[Existing corpora](#existing)<br>\n",
    "\n",
    "[Tokenization](#tokenization)<br>\n",
    "\n",
    "[Sentence segmentation](#sent-seg)<br>\n",
    "\n",
    "[Collocations](#collocations)<br>\n",
    "\n",
    "[Sentiment analysis](#sentiment)<br>\n",
    "\n",
    "[Stemming](#stemming)<br>\n",
    "\n",
    "[What we didn't cover](#didnt)<br>\n",
    "\n",
    "### Time\n",
    "- Teaching: 30 minutes\n",
    "- Exercises: 30 minutes"
   ]
  },
  {
   "cell_type": "code",
   "execution_count": 1,
   "metadata": {},
   "outputs": [],
   "source": [
    "%matplotlib inline\n",
    "import os\n",
    "import nltk\n",
    "import numpy as np\n",
    "import pandas as pd\n",
    "import matplotlib.pyplot as plt\n",
    "import seaborn as sns\n",
    "sns.set()"
   ]
  },
  {
   "cell_type": "markdown",
   "metadata": {},
   "source": [
    "## Existing corpora <a id='existing'></a>\n",
    "\n",
    "When you downloaded data from nltk using `nltk.download('all')`, you downloaded a whole bunch of great corpora (collections of text documents) and lexical resources (structured information about words). This gives us data to work with already! If you ever want to learn/practice an NLP method, know that just by importing nltk you have access to some data. Here are some corpora and resources that are particularly useful and that we'll use throughout this workshop:\n",
    "\n",
    "- ABC\n",
    "- Brown\n",
    "- CMU pronunciation dictionary\n",
    "- Genesis\n",
    "- Project Gutenberg selections\n",
    "- Inaugural addresses\n",
    "- Movie reviews\n",
    "- Names\n",
    "- State of the Union addresses\n",
    "- Stopwords\n",
    "- Twitter samples\n",
    "- Universal Declaration of Human Rights\n",
    "- WordNet\n",
    "\n",
    "Full list of data in NLTK [here](http://www.nltk.org/nltk_data/)."
   ]
  },
  {
   "cell_type": "code",
   "execution_count": 2,
   "metadata": {},
   "outputs": [],
   "source": [
    "from nltk.corpus import (abc, brown, cmudict, genesis, gutenberg,\n",
    "                         inaugural, movie_reviews, names, state_union, \n",
    "                         stopwords, swadesh, twitter_samples, udhr2, \n",
    "                         wordnet)"
   ]
  },
  {
   "cell_type": "markdown",
   "metadata": {},
   "source": [
    "Corpora in NLTK are special objects in NLTK that give you the exact data you want only when you ask for it. For example, `brown` is not a string or a list of words."
   ]
  },
  {
   "cell_type": "code",
   "execution_count": 3,
   "metadata": {},
   "outputs": [
    {
     "data": {
      "text/plain": [
       "<CategorizedTaggedCorpusReader in '/Users/bacon/nltk_data/corpora/brown'>"
      ]
     },
     "execution_count": 3,
     "metadata": {},
     "output_type": "execute_result"
    }
   ],
   "source": [
    "brown"
   ]
  },
  {
   "cell_type": "markdown",
   "metadata": {},
   "source": [
    "#### Words, raw, sents, fileids\n",
    "\n",
    "But if I wanted the Brown corpus as a list of words, I could ask for it like this:"
   ]
  },
  {
   "cell_type": "code",
   "execution_count": 4,
   "metadata": {},
   "outputs": [
    {
     "data": {
      "text/plain": [
       "['The', 'Fulton', 'County', 'Grand', 'Jury', 'said', ...]"
      ]
     },
     "execution_count": 4,
     "metadata": {},
     "output_type": "execute_result"
    }
   ],
   "source": [
    "brown.words()"
   ]
  },
  {
   "cell_type": "markdown",
   "metadata": {},
   "source": [
    "Similarly, if I wanted the text of the ABC corpus as a string, I could get it like this:"
   ]
  },
  {
   "cell_type": "code",
   "execution_count": 5,
   "metadata": {},
   "outputs": [
    {
     "data": {
      "text/plain": [
       "'PM denies knowledge of AWB kickbacks\\nThe Prime Minister has denied he knew AWB was paying kickbacks '"
      ]
     },
     "execution_count": 5,
     "metadata": {},
     "output_type": "execute_result"
    }
   ],
   "source": [
    "abc.raw()[:100]"
   ]
  },
  {
   "cell_type": "markdown",
   "metadata": {},
   "source": [
    "If you wanted the sentences of a corpus, you can ask for them like this:"
   ]
  },
  {
   "cell_type": "code",
   "execution_count": 6,
   "metadata": {},
   "outputs": [
    {
     "data": {
      "text/plain": [
       "[['plot', ':', 'two', 'teen', 'couples', 'go', 'to', 'a', 'church', 'party', ',', 'drink', 'and', 'then', 'drive', '.'], ['they', 'get', 'into', 'an', 'accident', '.'], ...]"
      ]
     },
     "execution_count": 6,
     "metadata": {},
     "output_type": "execute_result"
    }
   ],
   "source": [
    "movie_reviews.sents()"
   ]
  },
  {
   "cell_type": "markdown",
   "metadata": {},
   "source": [
    "These corpora are often made up of multiple files. You can see the file names by using the `fileids` method."
   ]
  },
  {
   "cell_type": "code",
   "execution_count": 7,
   "metadata": {},
   "outputs": [
    {
     "data": {
      "text/plain": [
       "['female.txt', 'male.txt']"
      ]
     },
     "execution_count": 7,
     "metadata": {},
     "output_type": "execute_result"
    }
   ],
   "source": [
    "names.fileids()"
   ]
  },
  {
   "cell_type": "markdown",
   "metadata": {},
   "source": [
    "To restrict the words, raw or sents to just the words/raw/sents in a particular file, you can list the file name as an optional argument to the `words`/`raw`/`sents` method."
   ]
  },
  {
   "cell_type": "code",
   "execution_count": 8,
   "metadata": {},
   "outputs": [
    {
     "data": {
      "text/plain": [
       "['Aamir',\n",
       " 'Aaron',\n",
       " 'Abbey',\n",
       " 'Abbie',\n",
       " 'Abbot',\n",
       " 'Abbott',\n",
       " 'Abby',\n",
       " 'Abdel',\n",
       " 'Abdul',\n",
       " 'Abdulkarim']"
      ]
     },
     "execution_count": 8,
     "metadata": {},
     "output_type": "execute_result"
    }
   ],
   "source": [
    "male_names = names.words('male.txt')\n",
    "male_names[:10]"
   ]
  },
  {
   "cell_type": "markdown",
   "metadata": {},
   "source": [
    "#### Unique properties\n",
    "\n",
    "Some corpora have unique aspects to them. For example, the CMU pronunciation dictionary lists (some standard) pronunciation of English words."
   ]
  },
  {
   "cell_type": "code",
   "execution_count": 9,
   "metadata": {},
   "outputs": [],
   "source": [
    "pronunciation = cmudict.dict()"
   ]
  },
  {
   "cell_type": "code",
   "execution_count": 10,
   "metadata": {},
   "outputs": [
    {
     "data": {
      "text/plain": [
       "[['HH', 'AH0', 'L', 'OW1'], ['HH', 'EH0', 'L', 'OW1']]"
      ]
     },
     "execution_count": 10,
     "metadata": {},
     "output_type": "execute_result"
    }
   ],
   "source": [
    "pronunciation['hello']"
   ]
  },
  {
   "cell_type": "markdown",
   "metadata": {},
   "source": [
    "### Male vs. female names"
   ]
  },
  {
   "cell_type": "code",
   "execution_count": 11,
   "metadata": {},
   "outputs": [],
   "source": [
    "male_names = names.words('male.txt')\n",
    "female_names = names.words('female.txt')"
   ]
  },
  {
   "cell_type": "code",
   "execution_count": 12,
   "metadata": {},
   "outputs": [
    {
     "data": {
      "image/png": "[encoded data removed]",
      "text/plain": [
       "<matplotlib.figure.Figure at 0x111c674e0>"
      ]
     },
     "metadata": {},
     "output_type": "display_data"
    }
   ],
   "source": [
    "def last_letter(name):\n",
    "    \"\"\"Returns the last letter of `name`.\"\"\"\n",
    "    return name.strip()[-1]\n",
    "\n",
    "def count_letters(names):\n",
    "    \"\"\"Returns the distribution of the last letters in `names`.\"\"\"\n",
    "    return pd.Series([last_letter(n) for n in names]).value_counts(normalize=True)\n",
    "\n",
    "def letter_distribution():\n",
    "    male_value_counts = count_letters(male_names)\n",
    "    female_value_counts = count_letters(female_names)\n",
    "    return pd.DataFrame.from_dict({'male': male_value_counts, 'female': female_value_counts})\n",
    "\n",
    "df = letter_distribution()\n",
    "df.plot(kind='bar', figsize=(16, 8))\n",
    "plt.legend(prop={'size': 20})\n",
    "plt.xticks(rotation=0, size=20);"
   ]
  },
  {
   "cell_type": "markdown",
   "metadata": {},
   "source": [
    "### Challenge\n",
    "\n",
    "- Count the lengths of the sentences (i.e. the number of words per sentence) in the `inaugural` corpus. Find the minimum, average and maximum sentence length.\n",
    "- Visualize the distribution of lengths.\n",
    "- Count the number of times the following words appear in the corpus: \"america\", \"citizen\", \"united\", \"senate\" and \"freedom\".\n",
    "- If you are surprised by anything in the answer to the last question, think about capitalization issues. Make all words lowercase and then perform your counts."
   ]
  },
  {
   "cell_type": "code",
   "execution_count": 13,
   "metadata": {},
   "outputs": [
    {
     "name": "stdout",
     "output_type": "stream",
     "text": [
      "2 29.9373459326212 810\n"
     ]
    }
   ],
   "source": [
    "# solution\n",
    "lengths = [len(s) for s in inaugural.sents()]\n",
    "min_length = min(lengths)\n",
    "mean_length = sum(lengths) / len(lengths)\n",
    "max_length = max(lengths)\n",
    "print(min_length, mean_length, max_length)"
   ]
  },
  {
   "cell_type": "code",
   "execution_count": 14,
   "metadata": {},
   "outputs": [
    {
     "data": {
      "image/png": "[encoded data removed]",
      "text/plain": [
       "<matplotlib.figure.Figure at 0x111c569b0>"
      ]
     },
     "metadata": {},
     "output_type": "display_data"
    }
   ],
   "source": [
    "# solution\n",
    "sns.distplot(lengths);"
   ]
  },
  {
   "cell_type": "code",
   "execution_count": 15,
   "metadata": {},
   "outputs": [
    {
     "name": "stdout",
     "output_type": "stream",
     "text": [
      "america : 0\n",
      "citizen : 54\n",
      "united : 32\n",
      "senate : 4\n",
      "freedom : 174\n"
     ]
    }
   ],
   "source": [
    "for word in [\"america\", \"citizen\", \"united\", \"senate\", \"freedom\"]:\n",
    "    n = inaugural.words().count(word)\n",
    "    print(word, ':', n)"
   ]
  },
  {
   "cell_type": "code",
   "execution_count": 16,
   "metadata": {},
   "outputs": [
    {
     "name": "stdout",
     "output_type": "stream",
     "text": [
      "america : 192\n",
      "citizen : 54\n",
      "united : 197\n",
      "senate : 15\n",
      "freedom : 183\n"
     ]
    }
   ],
   "source": [
    "inaugural_words = [w.lower() for w in inaugural.words()]\n",
    "for word in [\"america\", \"citizen\", \"united\", \"senate\", \"freedom\"]:\n",
    "    n = inaugural_words.count(word)\n",
    "    print(word, ':', n)"
   ]
  },
  {
   "cell_type": "markdown",
   "metadata": {},
   "source": [
    "## Tokenization <a id='tokenization'></a>\n",
    "\n",
    "More often than not, you'll want to analyze some text that doesn't come from NLTK. Perhaps you've scraped a few websites and stored the text in a text file. One of the first steps in processing your text data is tokenization. **Tokenization refers to breaking a running string of text into individual words.**\n",
    "\n",
    "I've download the text contents of the Wikipedia page on [Python][1], and saved it in the `data` directory. We can read it in as follows:\n",
    "\n",
    "[1]: https://en.wikipedia.org/wiki/Python_(programming_language)"
   ]
  },
  {
   "cell_type": "code",
   "execution_count": 17,
   "metadata": {},
   "outputs": [],
   "source": [
    "DATA_DIR = '../data'\n",
    "python_wiki_fname = os.path.join(DATA_DIR, 'python_wikipedia.txt')\n",
    "with open(python_wiki_fname) as f:\n",
    "    text = f.read()"
   ]
  },
  {
   "cell_type": "markdown",
   "metadata": {},
   "source": [
    "Now, `text` is a string:"
   ]
  },
  {
   "cell_type": "code",
   "execution_count": 18,
   "metadata": {},
   "outputs": [
    {
     "data": {
      "text/plain": [
       "'Python is an interpreted high-level programming language for general-purpose programming. Created by'"
      ]
     },
     "execution_count": 18,
     "metadata": {},
     "output_type": "execute_result"
    }
   ],
   "source": [
    "text[:100]"
   ]
  },
  {
   "cell_type": "markdown",
   "metadata": {},
   "source": [
    "We can tokenize this string by using nltk's `word_tokenize` function, which returns a list of strings. Each string is either a word or a punctuation symbol."
   ]
  },
  {
   "cell_type": "code",
   "execution_count": 19,
   "metadata": {},
   "outputs": [
    {
     "data": {
      "text/plain": [
       "['Python',\n",
       " 'is',\n",
       " 'an',\n",
       " 'interpreted',\n",
       " 'high-level',\n",
       " 'programming',\n",
       " 'language',\n",
       " 'for',\n",
       " 'general-purpose',\n",
       " 'programming']"
      ]
     },
     "execution_count": 19,
     "metadata": {},
     "output_type": "execute_result"
    }
   ],
   "source": [
    "tokens = nltk.word_tokenize(text)\n",
    "tokens[:10]"
   ]
  },
  {
   "cell_type": "markdown",
   "metadata": {},
   "source": [
    "This uses NLTK's recommended tokenizer. There are plenty of [other tokenizers in NLTK](https://github.com/nltk/nltk/tree/develop/nltk/tokenize), but unless you have good reason to do otherwise it's best to stick to the recommended tokenizer.\n",
    "\n",
    "### Challenge\n",
    "\n",
    "I've also downloaded the Wikipedia page for [Berkeley, California][2], and saved the contents as a file called 'berkeley_wikipedia.txt'. Borrowing from the code above, read this file in and tokenize the text. Then find the 10 most frequenct \"words\". After that, if you don't like counting punctuation symbols as \"words\", then remove all punctuation symbols then find the 10 most frequenct words.\n",
    "\n",
    "[2]: https://en.wikipedia.org/wiki/Berkeley,_California"
   ]
  },
  {
   "cell_type": "code",
   "execution_count": 20,
   "metadata": {},
   "outputs": [
    {
     "data": {
      "text/plain": [
       ",         406\n",
       ".         318\n",
       "the       212\n",
       "Python    203\n",
       "and       183\n",
       "a         155\n",
       "to        141\n",
       "of        139\n",
       "is        124\n",
       ")         110\n",
       "dtype: int64"
      ]
     },
     "execution_count": 20,
     "metadata": {},
     "output_type": "execute_result"
    }
   ],
   "source": [
    "# solution\n",
    "berkeley_wiki_fname = os.path.join(DATA_DIR, 'berkeley_wikipedia.txt')\n",
    "with open(python_wiki_fname) as f:\n",
    "    text = f.read()\n",
    "\n",
    "tokens = nltk.word_tokenize(text)\n",
    "s = pd.Series(tokens)\n",
    "s.value_counts().head(10)"
   ]
  },
  {
   "cell_type": "code",
   "execution_count": 21,
   "metadata": {},
   "outputs": [
    {
     "data": {
      "text/plain": [
       "the       212\n",
       "Python    203\n",
       "and       183\n",
       "a         155\n",
       "to        141\n",
       "of        139\n",
       "is        124\n",
       "in        109\n",
       "as         66\n",
       "for        65\n",
       "dtype: int64"
      ]
     },
     "execution_count": 21,
     "metadata": {},
     "output_type": "execute_result"
    }
   ],
   "source": [
    "from string import punctuation\n",
    "no_punct = [t for t in tokens if t not in punctuation]\n",
    "s = pd.Series(no_punct)\n",
    "s.value_counts().head(10)"
   ]
  },
  {
   "cell_type": "markdown",
   "metadata": {},
   "source": [
    "### Sentence segmentation <a id='sent-seg'></a>\n",
    "\n",
    "Sentence segmentation refers to finding the beginnings and ends of sentences. It's also sometimes called sentence tokenization. Again, there are lots of ways in NLTK to do this, but they have conviently chosen a default method for us. The `nltk.sent_tokenize` function takes in a string and returns a list of strings, where each string is a sentence."
   ]
  },
  {
   "cell_type": "code",
   "execution_count": 22,
   "metadata": {},
   "outputs": [
    {
     "data": {
      "text/plain": [
       "['Python is an interpreted high-level programming language for general-purpose programming.',\n",
       " 'Created by Guido van Rossum and first released in 1991, Python has a design philosophy that emphasizes code readability, notably using significant whitespace.']"
      ]
     },
     "execution_count": 22,
     "metadata": {},
     "output_type": "execute_result"
    }
   ],
   "source": [
    "sents = nltk.sent_tokenize(text)\n",
    "sents[:2]"
   ]
  },
  {
   "cell_type": "code",
   "execution_count": null,
   "metadata": {},
   "outputs": [],
   "source": []
  },
  {
   "cell_type": "markdown",
   "metadata": {},
   "source": [
    "### Collocations <a id='collocations'></a>\n",
    "\n",
    "Collocations are words that frequently appear together. They can help us identify key phrases in a text. Collocations can be bigrams (two words), tri-grams (three) or 4-grams. In NLTK, we can use the `BigramCollocationFinder` to find all the bigram collocations in a text. First, we feed in the tokenized text. Here, we'll use the 'learned' portion of the Brown corpus."
   ]
  },
  {
   "cell_type": "code",
   "execution_count": 23,
   "metadata": {},
   "outputs": [],
   "source": [
    "tokens = brown.words(categories='learned')\n",
    "collocations = nltk.BigramCollocationFinder.from_words(tokens)"
   ]
  },
  {
   "cell_type": "markdown",
   "metadata": {},
   "source": [
    "Then we decide which words to filter out. I don't want words less than three characters or stopwords."
   ]
  },
  {
   "cell_type": "code",
   "execution_count": 24,
   "metadata": {},
   "outputs": [],
   "source": [
    "ignored_words = stopwords.words('english')\n",
    "word_filter = lambda w: len(w) < 3 or w.lower() in ignored_words\n",
    "collocations.apply_freq_filter(3)\n",
    "collocations.apply_word_filter(word_filter)"
   ]
  },
  {
   "cell_type": "markdown",
   "metadata": {},
   "source": [
    "Then we decide what method NLTK should use to decide what makes a collocation special. We'll use the likelihood ratio, which is a good standard choice."
   ]
  },
  {
   "cell_type": "code",
   "execution_count": 25,
   "metadata": {},
   "outputs": [
    {
     "data": {
      "text/plain": [
       "[('United', 'States'),\n",
       " ('per', 'cent'),\n",
       " ('dominant', 'stress'),\n",
       " ('carbon', 'tetrachloride'),\n",
       " ('sweet', 'clover'),\n",
       " ('wage', 'rate'),\n",
       " ('anode', 'holder'),\n",
       " ('electronic', 'switches'),\n",
       " ('John', 'Brown'),\n",
       " ('minimal', 'polynomial'),\n",
       " ('index', 'words'),\n",
       " ('index', 'word'),\n",
       " ('radio', 'emission'),\n",
       " ('pulmonary', 'artery'),\n",
       " ('electronic', 'switch')]"
      ]
     },
     "execution_count": 25,
     "metadata": {},
     "output_type": "execute_result"
    }
   ],
   "source": [
    "scorer = nltk.collocations.BigramAssocMeasures.likelihood_ratio\n",
    "collocations.nbest(scorer, 15)"
   ]
  },
  {
   "cell_type": "markdown",
   "metadata": {},
   "source": [
    "This was kinda messy. We can wrap all this up into a nicer function that just takes in the tokens and spits out the collocations."
   ]
  },
  {
   "cell_type": "code",
   "execution_count": 26,
   "metadata": {},
   "outputs": [],
   "source": [
    "def my_collocations(tokens):\n",
    "    collocations = nltk.BigramCollocationFinder.from_words(tokens)\n",
    "    ignored_words = stopwords.words('english')\n",
    "    word_filter = lambda w: len(w) < 3 or w.lower() in ignored_words\n",
    "    collocations.apply_freq_filter(3)\n",
    "    collocations.apply_word_filter(word_filter)\n",
    "    scorer = nltk.collocations.BigramAssocMeasures.likelihood_ratio\n",
    "    return collocations.nbest(scorer, 15)"
   ]
  },
  {
   "cell_type": "markdown",
   "metadata": {},
   "source": [
    "And now run `my_collocations` on some new text."
   ]
  },
  {
   "cell_type": "code",
   "execution_count": 27,
   "metadata": {},
   "outputs": [
    {
     "data": {
      "text/plain": [
       "[('United', 'States'),\n",
       " ('fiscal', 'year'),\n",
       " ('Social', 'Security'),\n",
       " ('American', 'people'),\n",
       " ('United', 'Nations'),\n",
       " ('million', 'dollars'),\n",
       " ('health', 'care'),\n",
       " ('billion', 'dollars'),\n",
       " ('Middle', 'East'),\n",
       " ('years', 'ago'),\n",
       " ('Federal', 'Government'),\n",
       " ('Soviet', 'Union'),\n",
       " ('21st', 'century'),\n",
       " ('last', 'year'),\n",
       " ('JOINT', 'SESSION')]"
      ]
     },
     "execution_count": 27,
     "metadata": {},
     "output_type": "execute_result"
    }
   ],
   "source": [
    "my_collocations(state_union.words())"
   ]
  },
  {
   "cell_type": "code",
   "execution_count": 28,
   "metadata": {},
   "outputs": [
    {
     "data": {
      "text/plain": [
       "[('Frank', 'Churchill'),\n",
       " ('Miss', 'Woodhouse'),\n",
       " ('Miss', 'Bates'),\n",
       " ('Jane', 'Fairfax'),\n",
       " ('Miss', 'Fairfax'),\n",
       " ('every', 'thing'),\n",
       " ('young', 'man'),\n",
       " ('every', 'body'),\n",
       " ('great', 'deal'),\n",
       " ('dare', 'say'),\n",
       " ('John', 'Knightley'),\n",
       " ('Maple', 'Grove'),\n",
       " ('Miss', 'Smith'),\n",
       " ('Miss', 'Taylor'),\n",
       " ('Robert', 'Martin')]"
      ]
     },
     "execution_count": 28,
     "metadata": {},
     "output_type": "execute_result"
    }
   ],
   "source": [
    "emma = gutenberg.words('austen-emma.txt')\n",
    "my_collocations(emma)"
   ]
  },
  {
   "cell_type": "code",
   "execution_count": 29,
   "metadata": {
    "scrolled": false
   },
   "outputs": [
    {
     "data": {
      "text/plain": [
       "[('said', 'unto'),\n",
       " ('pray', 'thee'),\n",
       " ('thou', 'shalt'),\n",
       " ('thou', 'hast'),\n",
       " ('thy', 'seed'),\n",
       " ('years', 'old'),\n",
       " ('spake', 'unto'),\n",
       " ('thou', 'art'),\n",
       " ('LORD', 'God'),\n",
       " ('every', 'living'),\n",
       " ('God', 'hath'),\n",
       " ('begat', 'sons'),\n",
       " ('seven', 'years'),\n",
       " ('shalt', 'thou'),\n",
       " ('little', 'ones')]"
      ]
     },
     "execution_count": 29,
     "metadata": {},
     "output_type": "execute_result"
    }
   ],
   "source": [
    "my_collocations(genesis.words('english-kjv.txt'))"
   ]
  },
  {
   "cell_type": "markdown",
   "metadata": {},
   "source": [
    "### Sentiment analysis <a id='sentiment'></a>\n",
    "\n",
    "NLTK has support for sentiment analysis. [Sentiment analysis](https://en.wikipedia.org/wiki/Sentiment_analysis) is the task of extracting [affective states](https://en.wikipedia.org/wiki/Affect_(psychology)) from text. The VADER (Valence Aware Dictionary and sEntiment Reasoner) is a lexicon and rule-based sentiment analysis tool that is specifically attuned to sentiments expressed in social media. There was a [Python package](https://github.com/cjhutto/vaderSentiment) developed for it outside of NLTK, which was then incorporated into NLTK. Loading it through NLTK is often buggy, but we can install the original package if it fails through NLTK. It ends up working the same."
   ]
  },
  {
   "cell_type": "code",
   "execution_count": 30,
   "metadata": {},
   "outputs": [
    {
     "name": "stdout",
     "output_type": "stream",
     "text": [
      "Sentiment analysis in NLTK is not working at the moment :(\n"
     ]
    },
    {
     "name": "stderr",
     "output_type": "stream",
     "text": [
      "/Library/Frameworks/Python.framework/Versions/3.6/lib/python3.6/site-packages/nltk/twitter/__init__.py:20: UserWarning: The twython library has not been installed. Some functionality from the twitter package will not be available.\n",
      "  warnings.warn(\"The twython library has not been installed. \"\n"
     ]
    }
   ],
   "source": [
    "from nltk.sentiment import SentimentIntensityAnalyzer\n",
    "try:\n",
    "    sentiment = SentimentIntensityAnalyzer()\n",
    "except LookupError:\n",
    "    print('Sentiment analysis in NLTK is not working at the moment :(')"
   ]
  },
  {
   "cell_type": "markdown",
   "metadata": {},
   "source": [
    "If the `SentimentIntensityAnalyzer` isn't loading properly from `nltk`, then you'll have to install the original package using the line below:"
   ]
  },
  {
   "cell_type": "code",
   "execution_count": 31,
   "metadata": {},
   "outputs": [
    {
     "name": "stdout",
     "output_type": "stream",
     "text": [
      "Requirement already up-to-date: vaderSentiment in /Library/Frameworks/Python.framework/Versions/3.6/lib/python3.6/site-packages\r\n"
     ]
    }
   ],
   "source": [
    "!pip install -U vaderSentiment"
   ]
  },
  {
   "cell_type": "markdown",
   "metadata": {},
   "source": [
    "And then import it like this:"
   ]
  },
  {
   "cell_type": "code",
   "execution_count": 32,
   "metadata": {},
   "outputs": [],
   "source": [
    "from vaderSentiment.vaderSentiment import SentimentIntensityAnalyzer"
   ]
  },
  {
   "cell_type": "markdown",
   "metadata": {},
   "source": [
    "Whether you used NLTK's `SentimentIntensityAnalyzer` or gor it from `vaderSentiment`, the rest of the code is identical."
   ]
  },
  {
   "cell_type": "code",
   "execution_count": 33,
   "metadata": {},
   "outputs": [],
   "source": [
    "sentiment = SentimentIntensityAnalyzer()"
   ]
  },
  {
   "cell_type": "markdown",
   "metadata": {},
   "source": [
    "Analyzing a sentence for its sentiment returns a dictionary with four items. The `compound` key holds the overall score."
   ]
  },
  {
   "cell_type": "code",
   "execution_count": 34,
   "metadata": {},
   "outputs": [
    {
     "data": {
      "text/plain": [
       "{'compound': -0.6837, 'neg': 0.374, 'neu': 0.461, 'pos': 0.165}"
      ]
     },
     "execution_count": 34,
     "metadata": {},
     "output_type": "execute_result"
    }
   ],
   "source": [
    "sentence = \"I hate this sentence so much. I just want it to end. It sucks!\"\n",
    "sentiment.polarity_scores(sentence)"
   ]
  },
  {
   "cell_type": "code",
   "execution_count": 35,
   "metadata": {},
   "outputs": [],
   "source": [
    "sentences = [\"VADER is smart, handsome, and funny.\",      # positive sentence example\n",
    "            \"VADER is not smart, handsome, nor funny.\",   # negation sentence example\n",
    "            \"VADER is smart, handsome, and funny!\",       # punctuation emphasis handled correctly (sentiment intensity adjusted)\n",
    "            \"VADER is very smart, handsome, and funny.\",  # booster words handled correctly (sentiment intensity adjusted)\n",
    "            \"VADER is VERY SMART, handsome, and FUNNY.\",  # emphasis for ALLCAPS handled\n",
    "            \"VADER is VERY SMART, handsome, and FUNNY!!!\",# combination of signals - VADER appropriately adjusts intensity\n",
    "            \"VADER is VERY SMART, uber handsome, and FRIGGIN FUNNY!!!\",# booster words & punctuation make this close to ceiling for score\n",
    "            \"The book was good.\",                                     # positive sentence\n",
    "            \"The book was kind of good.\",                 # qualified positive sentence is handled correctly (intensity adjusted)\n",
    "            \"The plot was good, but the characters are uncompelling and the dialog is not great.\", # mixed negation sentence\n",
    "            \"At least it isn't a horrible book.\",         # negated negative sentence with contraction\n",
    "            \"Make sure you :) or :D today!\",              # emoticons handled\n",
    "            \"Today SUX!\",                                 # negative slang with capitalization emphasis\n",
    "            \"Today only kinda sux! But I'll get by, lol\"  # mixed sentiment example with slang and constrastive conjunction \"but\"\n",
    "             ]"
   ]
  },
  {
   "cell_type": "code",
   "execution_count": 36,
   "metadata": {},
   "outputs": [
    {
     "data": {
      "text/html": [
       "<div>\n",
       "<style scoped>\n",
       "    .dataframe tbody tr th:only-of-type {\n",
       "        vertical-align: middle;\n",
       "    }\n",
       "\n",
       "    .dataframe tbody tr th {\n",
       "        vertical-align: top;\n",
       "    }\n",
       "\n",
       "    .dataframe thead th {\n",
       "        text-align: right;\n",
       "    }\n",
       "</style>\n",
       "<table border=\"1\" class=\"dataframe\">\n",
       "  <thead>\n",
       "    <tr style=\"text-align: right;\">\n",
       "      <th></th>\n",
       "      <th>compound</th>\n",
       "      <th>neg</th>\n",
       "      <th>neu</th>\n",
       "      <th>pos</th>\n",
       "      <th>sentence</th>\n",
       "    </tr>\n",
       "  </thead>\n",
       "  <tbody>\n",
       "    <tr>\n",
       "      <th>0</th>\n",
       "      <td>0.8316</td>\n",
       "      <td>0.000</td>\n",
       "      <td>0.254</td>\n",
       "      <td>0.746</td>\n",
       "      <td>VADER is smart, handsome, and funny.</td>\n",
       "    </tr>\n",
       "    <tr>\n",
       "      <th>1</th>\n",
       "      <td>-0.7424</td>\n",
       "      <td>0.646</td>\n",
       "      <td>0.354</td>\n",
       "      <td>0.000</td>\n",
       "      <td>VADER is not smart, handsome, nor funny.</td>\n",
       "    </tr>\n",
       "    <tr>\n",
       "      <th>2</th>\n",
       "      <td>0.8439</td>\n",
       "      <td>0.000</td>\n",
       "      <td>0.248</td>\n",
       "      <td>0.752</td>\n",
       "      <td>VADER is smart, handsome, and funny!</td>\n",
       "    </tr>\n",
       "    <tr>\n",
       "      <th>3</th>\n",
       "      <td>0.8545</td>\n",
       "      <td>0.000</td>\n",
       "      <td>0.299</td>\n",
       "      <td>0.701</td>\n",
       "      <td>VADER is very smart, handsome, and funny.</td>\n",
       "    </tr>\n",
       "    <tr>\n",
       "      <th>4</th>\n",
       "      <td>0.9227</td>\n",
       "      <td>0.000</td>\n",
       "      <td>0.246</td>\n",
       "      <td>0.754</td>\n",
       "      <td>VADER is VERY SMART, handsome, and FUNNY.</td>\n",
       "    </tr>\n",
       "    <tr>\n",
       "      <th>5</th>\n",
       "      <td>0.9342</td>\n",
       "      <td>0.000</td>\n",
       "      <td>0.233</td>\n",
       "      <td>0.767</td>\n",
       "      <td>VADER is VERY SMART, handsome, and FUNNY!!!</td>\n",
       "    </tr>\n",
       "    <tr>\n",
       "      <th>6</th>\n",
       "      <td>0.9469</td>\n",
       "      <td>0.000</td>\n",
       "      <td>0.294</td>\n",
       "      <td>0.706</td>\n",
       "      <td>VADER is VERY SMART, uber handsome, and FRIGGI...</td>\n",
       "    </tr>\n",
       "    <tr>\n",
       "      <th>7</th>\n",
       "      <td>0.4404</td>\n",
       "      <td>0.000</td>\n",
       "      <td>0.508</td>\n",
       "      <td>0.492</td>\n",
       "      <td>The book was good.</td>\n",
       "    </tr>\n",
       "    <tr>\n",
       "      <th>8</th>\n",
       "      <td>0.3832</td>\n",
       "      <td>0.000</td>\n",
       "      <td>0.657</td>\n",
       "      <td>0.343</td>\n",
       "      <td>The book was kind of good.</td>\n",
       "    </tr>\n",
       "    <tr>\n",
       "      <th>9</th>\n",
       "      <td>-0.7042</td>\n",
       "      <td>0.327</td>\n",
       "      <td>0.579</td>\n",
       "      <td>0.094</td>\n",
       "      <td>The plot was good, but the characters are unco...</td>\n",
       "    </tr>\n",
       "    <tr>\n",
       "      <th>10</th>\n",
       "      <td>0.4310</td>\n",
       "      <td>0.000</td>\n",
       "      <td>0.637</td>\n",
       "      <td>0.363</td>\n",
       "      <td>At least it isn't a horrible book.</td>\n",
       "    </tr>\n",
       "    <tr>\n",
       "      <th>11</th>\n",
       "      <td>0.8633</td>\n",
       "      <td>0.000</td>\n",
       "      <td>0.294</td>\n",
       "      <td>0.706</td>\n",
       "      <td>Make sure you :) or :D today!</td>\n",
       "    </tr>\n",
       "    <tr>\n",
       "      <th>12</th>\n",
       "      <td>-0.5461</td>\n",
       "      <td>0.779</td>\n",
       "      <td>0.221</td>\n",
       "      <td>0.000</td>\n",
       "      <td>Today SUX!</td>\n",
       "    </tr>\n",
       "    <tr>\n",
       "      <th>13</th>\n",
       "      <td>0.2228</td>\n",
       "      <td>0.179</td>\n",
       "      <td>0.569</td>\n",
       "      <td>0.251</td>\n",
       "      <td>Today only kinda sux! But I'll get by, lol</td>\n",
       "    </tr>\n",
       "  </tbody>\n",
       "</table>\n",
       "</div>"
      ],
      "text/plain": [
       "    compound    neg    neu    pos  \\\n",
       "0     0.8316  0.000  0.254  0.746   \n",
       "1    -0.7424  0.646  0.354  0.000   \n",
       "2     0.8439  0.000  0.248  0.752   \n",
       "3     0.8545  0.000  0.299  0.701   \n",
       "4     0.9227  0.000  0.246  0.754   \n",
       "5     0.9342  0.000  0.233  0.767   \n",
       "6     0.9469  0.000  0.294  0.706   \n",
       "7     0.4404  0.000  0.508  0.492   \n",
       "8     0.3832  0.000  0.657  0.343   \n",
       "9    -0.7042  0.327  0.579  0.094   \n",
       "10    0.4310  0.000  0.637  0.363   \n",
       "11    0.8633  0.000  0.294  0.706   \n",
       "12   -0.5461  0.779  0.221  0.000   \n",
       "13    0.2228  0.179  0.569  0.251   \n",
       "\n",
       "                                             sentence  \n",
       "0                VADER is smart, handsome, and funny.  \n",
       "1            VADER is not smart, handsome, nor funny.  \n",
       "2                VADER is smart, handsome, and funny!  \n",
       "3           VADER is very smart, handsome, and funny.  \n",
       "4           VADER is VERY SMART, handsome, and FUNNY.  \n",
       "5         VADER is VERY SMART, handsome, and FUNNY!!!  \n",
       "6   VADER is VERY SMART, uber handsome, and FRIGGI...  \n",
       "7                                  The book was good.  \n",
       "8                          The book was kind of good.  \n",
       "9   The plot was good, but the characters are unco...  \n",
       "10                 At least it isn't a horrible book.  \n",
       "11                      Make sure you :) or :D today!  \n",
       "12                                         Today SUX!  \n",
       "13         Today only kinda sux! But I'll get by, lol  "
      ]
     },
     "execution_count": 36,
     "metadata": {},
     "output_type": "execute_result"
    }
   ],
   "source": [
    "scores = []\n",
    "for sent in sentences:\n",
    "    score = sentiment.polarity_scores(sent)\n",
    "    scores.append(score)\n",
    "df = pd.DataFrame(scores)\n",
    "df['sentence'] = sentences\n",
    "df"
   ]
  },
  {
   "cell_type": "markdown",
   "metadata": {},
   "source": [
    "> _The compound score is computed by summing the valence scores of each word in the lexicon, adjusted according to the rules, and then normalized to be between -1 (most extreme negative) and +1 (most extreme positive). This is the most useful metric if you want a single unidimensional measure of sentiment for a given sentence. Calling it a 'normalized, weighted composite score' is accurate._\n",
    "\n",
    "> _It is also useful for researchers who would like to set standardized thresholds for classifying sentences as either positive, neutral, or negative._"
   ]
  },
  {
   "cell_type": "code",
   "execution_count": 37,
   "metadata": {},
   "outputs": [
    {
     "data": {
      "text/html": [
       "<div>\n",
       "<style scoped>\n",
       "    .dataframe tbody tr th:only-of-type {\n",
       "        vertical-align: middle;\n",
       "    }\n",
       "\n",
       "    .dataframe tbody tr th {\n",
       "        vertical-align: top;\n",
       "    }\n",
       "\n",
       "    .dataframe thead th {\n",
       "        text-align: right;\n",
       "    }\n",
       "</style>\n",
       "<table border=\"1\" class=\"dataframe\">\n",
       "  <thead>\n",
       "    <tr style=\"text-align: right;\">\n",
       "      <th></th>\n",
       "      <th>compound</th>\n",
       "      <th>neg</th>\n",
       "      <th>neu</th>\n",
       "      <th>pos</th>\n",
       "      <th>sentence</th>\n",
       "      <th>positive_sentiment</th>\n",
       "    </tr>\n",
       "  </thead>\n",
       "  <tbody>\n",
       "    <tr>\n",
       "      <th>0</th>\n",
       "      <td>0.8316</td>\n",
       "      <td>0.000</td>\n",
       "      <td>0.254</td>\n",
       "      <td>0.746</td>\n",
       "      <td>VADER is smart, handsome, and funny.</td>\n",
       "      <td>True</td>\n",
       "    </tr>\n",
       "    <tr>\n",
       "      <th>1</th>\n",
       "      <td>-0.7424</td>\n",
       "      <td>0.646</td>\n",
       "      <td>0.354</td>\n",
       "      <td>0.000</td>\n",
       "      <td>VADER is not smart, handsome, nor funny.</td>\n",
       "      <td>False</td>\n",
       "    </tr>\n",
       "    <tr>\n",
       "      <th>2</th>\n",
       "      <td>0.8439</td>\n",
       "      <td>0.000</td>\n",
       "      <td>0.248</td>\n",
       "      <td>0.752</td>\n",
       "      <td>VADER is smart, handsome, and funny!</td>\n",
       "      <td>True</td>\n",
       "    </tr>\n",
       "    <tr>\n",
       "      <th>3</th>\n",
       "      <td>0.8545</td>\n",
       "      <td>0.000</td>\n",
       "      <td>0.299</td>\n",
       "      <td>0.701</td>\n",
       "      <td>VADER is very smart, handsome, and funny.</td>\n",
       "      <td>True</td>\n",
       "    </tr>\n",
       "    <tr>\n",
       "      <th>4</th>\n",
       "      <td>0.9227</td>\n",
       "      <td>0.000</td>\n",
       "      <td>0.246</td>\n",
       "      <td>0.754</td>\n",
       "      <td>VADER is VERY SMART, handsome, and FUNNY.</td>\n",
       "      <td>True</td>\n",
       "    </tr>\n",
       "    <tr>\n",
       "      <th>5</th>\n",
       "      <td>0.9342</td>\n",
       "      <td>0.000</td>\n",
       "      <td>0.233</td>\n",
       "      <td>0.767</td>\n",
       "      <td>VADER is VERY SMART, handsome, and FUNNY!!!</td>\n",
       "      <td>True</td>\n",
       "    </tr>\n",
       "    <tr>\n",
       "      <th>6</th>\n",
       "      <td>0.9469</td>\n",
       "      <td>0.000</td>\n",
       "      <td>0.294</td>\n",
       "      <td>0.706</td>\n",
       "      <td>VADER is VERY SMART, uber handsome, and FRIGGI...</td>\n",
       "      <td>True</td>\n",
       "    </tr>\n",
       "    <tr>\n",
       "      <th>7</th>\n",
       "      <td>0.4404</td>\n",
       "      <td>0.000</td>\n",
       "      <td>0.508</td>\n",
       "      <td>0.492</td>\n",
       "      <td>The book was good.</td>\n",
       "      <td>False</td>\n",
       "    </tr>\n",
       "    <tr>\n",
       "      <th>8</th>\n",
       "      <td>0.3832</td>\n",
       "      <td>0.000</td>\n",
       "      <td>0.657</td>\n",
       "      <td>0.343</td>\n",
       "      <td>The book was kind of good.</td>\n",
       "      <td>False</td>\n",
       "    </tr>\n",
       "    <tr>\n",
       "      <th>9</th>\n",
       "      <td>-0.7042</td>\n",
       "      <td>0.327</td>\n",
       "      <td>0.579</td>\n",
       "      <td>0.094</td>\n",
       "      <td>The plot was good, but the characters are unco...</td>\n",
       "      <td>False</td>\n",
       "    </tr>\n",
       "    <tr>\n",
       "      <th>10</th>\n",
       "      <td>0.4310</td>\n",
       "      <td>0.000</td>\n",
       "      <td>0.637</td>\n",
       "      <td>0.363</td>\n",
       "      <td>At least it isn't a horrible book.</td>\n",
       "      <td>False</td>\n",
       "    </tr>\n",
       "    <tr>\n",
       "      <th>11</th>\n",
       "      <td>0.8633</td>\n",
       "      <td>0.000</td>\n",
       "      <td>0.294</td>\n",
       "      <td>0.706</td>\n",
       "      <td>Make sure you :) or :D today!</td>\n",
       "      <td>True</td>\n",
       "    </tr>\n",
       "    <tr>\n",
       "      <th>12</th>\n",
       "      <td>-0.5461</td>\n",
       "      <td>0.779</td>\n",
       "      <td>0.221</td>\n",
       "      <td>0.000</td>\n",
       "      <td>Today SUX!</td>\n",
       "      <td>False</td>\n",
       "    </tr>\n",
       "    <tr>\n",
       "      <th>13</th>\n",
       "      <td>0.2228</td>\n",
       "      <td>0.179</td>\n",
       "      <td>0.569</td>\n",
       "      <td>0.251</td>\n",
       "      <td>Today only kinda sux! But I'll get by, lol</td>\n",
       "      <td>False</td>\n",
       "    </tr>\n",
       "  </tbody>\n",
       "</table>\n",
       "</div>"
      ],
      "text/plain": [
       "    compound    neg    neu    pos  \\\n",
       "0     0.8316  0.000  0.254  0.746   \n",
       "1    -0.7424  0.646  0.354  0.000   \n",
       "2     0.8439  0.000  0.248  0.752   \n",
       "3     0.8545  0.000  0.299  0.701   \n",
       "4     0.9227  0.000  0.246  0.754   \n",
       "5     0.9342  0.000  0.233  0.767   \n",
       "6     0.9469  0.000  0.294  0.706   \n",
       "7     0.4404  0.000  0.508  0.492   \n",
       "8     0.3832  0.000  0.657  0.343   \n",
       "9    -0.7042  0.327  0.579  0.094   \n",
       "10    0.4310  0.000  0.637  0.363   \n",
       "11    0.8633  0.000  0.294  0.706   \n",
       "12   -0.5461  0.779  0.221  0.000   \n",
       "13    0.2228  0.179  0.569  0.251   \n",
       "\n",
       "                                             sentence  positive_sentiment  \n",
       "0                VADER is smart, handsome, and funny.                True  \n",
       "1            VADER is not smart, handsome, nor funny.               False  \n",
       "2                VADER is smart, handsome, and funny!                True  \n",
       "3           VADER is very smart, handsome, and funny.                True  \n",
       "4           VADER is VERY SMART, handsome, and FUNNY.                True  \n",
       "5         VADER is VERY SMART, handsome, and FUNNY!!!                True  \n",
       "6   VADER is VERY SMART, uber handsome, and FRIGGI...                True  \n",
       "7                                  The book was good.               False  \n",
       "8                          The book was kind of good.               False  \n",
       "9   The plot was good, but the characters are unco...               False  \n",
       "10                 At least it isn't a horrible book.               False  \n",
       "11                      Make sure you :) or :D today!                True  \n",
       "12                                         Today SUX!               False  \n",
       "13         Today only kinda sux! But I'll get by, lol               False  "
      ]
     },
     "execution_count": 37,
     "metadata": {},
     "output_type": "execute_result"
    }
   ],
   "source": [
    "df['positive_sentiment'] = df['compound'] >= 0.5\n",
    "df"
   ]
  },
  {
   "cell_type": "markdown",
   "metadata": {},
   "source": [
    "### Challenge\n",
    "\n",
    "I've read in a bunch of tweets from Trump, and stored them as a list of strings in `tweet_text`. Use the code from above to find the positive sentiment tweets and save them to a list called `positive_tweets`. Do the same for negative tweets, storing them in a variable called `negative_tweets`. What's the proportion of positive to negative tweets?"
   ]
  },
  {
   "cell_type": "code",
   "execution_count": 38,
   "metadata": {},
   "outputs": [
    {
     "data": {
      "text/plain": [
       "['Today we express our deepest gratitude to all those who have served in our armed forces. #ThankAVet https://t.co/wPk7QWpK8Z',\n",
       " 'Busy day planned in New York. Will soon be making some very important decisions on the people who will be running our government!']"
      ]
     },
     "execution_count": 38,
     "metadata": {},
     "output_type": "execute_result"
    }
   ],
   "source": [
    "tweets_fname = os.path.join(DATA_DIR, 'trump-tweets.csv')\n",
    "tweets = pd.read_csv(tweets_fname)\n",
    "tweet_text = list(tweets['Tweet_Text'].values)\n",
    "tweet_text[:2]"
   ]
  },
  {
   "cell_type": "code",
   "execution_count": 39,
   "metadata": {},
   "outputs": [],
   "source": [
    "positive_tweets = []\n",
    "negative_tweets = []\n",
    "for tweet in tweet_text:\n",
    "    scores = sentiment.polarity_scores(tweet)\n",
    "    compound_score = scores['compound']\n",
    "    if compound_score >= 0.5:\n",
    "        positive_tweets.append(tweet)\n",
    "    elif compound_score <= -0.5:\n",
    "        negative_tweets.append(tweet)"
   ]
  },
  {
   "cell_type": "code",
   "execution_count": 40,
   "metadata": {},
   "outputs": [
    {
     "name": "stdout",
     "output_type": "stream",
     "text": [
      "0.7097127222982216\n"
     ]
    }
   ],
   "source": [
    "proportion = len(positive_tweets) / (len(positive_tweets) + len(negative_tweets))\n",
    "print(proportion)"
   ]
  },
  {
   "cell_type": "markdown",
   "metadata": {},
   "source": [
    "### Stemming <a id='stemming'></a>\n",
    "\n",
    "Stemming and lemmatization both refer to removing morphological affixes on words. For example, if we stem the word \"grows\", we get \"grow\". If we stem the word \"running\", we get \"run\". We do this because often we care more about the core content of the word (i.e. that it has something to do with growth or running, rather than the fact that it's a third person present tense verb, or progressive participle).\n",
    "\n",
    "NLTK provides many algorithms for stemming. For English, a great baseline is the [Porter algorithm](https://tartarus.org/martin/PorterStemmer/), which is in spirit isn't that far from a bunch of regular expressions."
   ]
  },
  {
   "cell_type": "code",
   "execution_count": 41,
   "metadata": {},
   "outputs": [],
   "source": [
    "from nltk.stem import PorterStemmer\n",
    "stemmer = PorterStemmer()"
   ]
  },
  {
   "cell_type": "code",
   "execution_count": 42,
   "metadata": {},
   "outputs": [
    {
     "data": {
      "text/plain": [
       "'grow'"
      ]
     },
     "execution_count": 42,
     "metadata": {},
     "output_type": "execute_result"
    }
   ],
   "source": [
    "stemmer.stem('grows')"
   ]
  },
  {
   "cell_type": "code",
   "execution_count": 43,
   "metadata": {},
   "outputs": [
    {
     "data": {
      "text/plain": [
       "'run'"
      ]
     },
     "execution_count": 43,
     "metadata": {},
     "output_type": "execute_result"
    }
   ],
   "source": [
    "stemmer.stem('running')"
   ]
  },
  {
   "cell_type": "code",
   "execution_count": 44,
   "metadata": {},
   "outputs": [
    {
     "data": {
      "text/plain": [
       "'leav'"
      ]
     },
     "execution_count": 44,
     "metadata": {},
     "output_type": "execute_result"
    }
   ],
   "source": [
    "stemmer.stem('leaves')"
   ]
  },
  {
   "cell_type": "markdown",
   "metadata": {},
   "source": [
    "NLTK has a variety of other stemming algorithms, and lemmatizers."
   ]
  },
  {
   "cell_type": "code",
   "execution_count": 45,
   "metadata": {},
   "outputs": [],
   "source": [
    "from nltk.stem import SnowballStemmer, WordNetLemmatizer\n",
    "snowball = SnowballStemmer('english')\n",
    "lemmatizer = WordNetLemmatizer()"
   ]
  },
  {
   "cell_type": "code",
   "execution_count": 46,
   "metadata": {},
   "outputs": [
    {
     "name": "stdout",
     "output_type": "stream",
     "text": [
      "run\n",
      "eat\n",
      "embarass\n"
     ]
    }
   ],
   "source": [
    "print(snowball.stem('running'))\n",
    "print(snowball.stem('eats'))\n",
    "print(snowball.stem('embarassed'))"
   ]
  },
  {
   "cell_type": "markdown",
   "metadata": {},
   "source": [
    "But watch out for errors:"
   ]
  },
  {
   "cell_type": "code",
   "execution_count": 47,
   "metadata": {},
   "outputs": [
    {
     "name": "stdout",
     "output_type": "stream",
     "text": [
      "cylind\n",
      "cylindr\n"
     ]
    }
   ],
   "source": [
    "# Thanks to Chris Hench for these examples\n",
    "print(snowball.stem('cylinder'))\n",
    "print(snowball.stem('cylindrical'))"
   ]
  },
  {
   "cell_type": "markdown",
   "metadata": {},
   "source": [
    "And collisions:"
   ]
  },
  {
   "cell_type": "code",
   "execution_count": 48,
   "metadata": {},
   "outputs": [
    {
     "name": "stdout",
     "output_type": "stream",
     "text": [
      "vacat\n",
      "vacat\n"
     ]
    }
   ],
   "source": [
    "# Thanks to Chris Hench for these examples\n",
    "print(snowball.stem('vacation'))\n",
    "print(snowball.stem('vacate'))"
   ]
  },
  {
   "cell_type": "code",
   "execution_count": 49,
   "metadata": {},
   "outputs": [
    {
     "name": "stdout",
     "output_type": "stream",
     "text": [
      "vacation\n",
      "vacate\n"
     ]
    }
   ],
   "source": [
    "print(lemmatizer.lemmatize('vacation'))\n",
    "print(lemmatizer.lemmatize('vacate'))"
   ]
  },
  {
   "cell_type": "markdown",
   "metadata": {},
   "source": [
    "But why would you want to stem words in the first place? Well, stemming improves performance!"
   ]
  },
  {
   "cell_type": "code",
   "execution_count": 95,
   "metadata": {},
   "outputs": [],
   "source": [
    "# Thanks again to Chris Hench for inspiration of this example\n",
    "import warnings\n",
    "warnings.filterwarnings(\"ignore\", category=DeprecationWarning)\n",
    "warnings.filterwarnings(\"ignore\", category=FutureWarning)\n",
    "from sklearn.feature_extraction.text import TfidfVectorizer\n",
    "from sklearn.cross_validation import train_test_split\n",
    "from sklearn.ensemble import RandomForestClassifier"
   ]
  },
  {
   "cell_type": "code",
   "execution_count": 89,
   "metadata": {},
   "outputs": [],
   "source": [
    "# Don't worry about following along with this code, although it's great if you do!\n",
    "def read_data():\n",
    "    airline_fname = 'airline_tweets.csv'\n",
    "    airline_fname = os.path.join(DATA_DIR, airline_fname)\n",
    "    df = pd.read_csv(airline_fname)\n",
    "    twitter_handle_pattern = r'@(\\w+)'\n",
    "    hashtag_pattern = r'(?:^|\\s)[＃#]{1}(\\w+)'\n",
    "    url_pattern = r'https?:\\/\\/.*.com'\n",
    "    df['clean_text'] = (df['text']\n",
    "                        .str.replace(hashtag_pattern, 'HASHTAG')\n",
    "                        .str.replace(twitter_handle_pattern, 'USER')\n",
    "                        .str.replace(url_pattern, 'URL')\n",
    "                              )\n",
    "    text = list(df['clean_text'].str.lower())\n",
    "    sentiment = list(df['airline_sentiment'])\n",
    "    return text, sentiment\n",
    "\n",
    "def prepare_stems(sents):\n",
    "    snowball = SnowballStemmer('english')\n",
    "    tokenized_sents = [nltk.word_tokenize(s) for s in sents]\n",
    "    stemmed_sents = [[snowball.stem(s) for s in tokenized_sent] for tokenized_sent in tokenized_sents]\n",
    "    return [' '.join(sent) for sent in stemmed_sents]\n",
    "\n",
    "def prepare_no_stems(sents):\n",
    "    tokenized_sents = [nltk.word_tokenize(s) for s in sents]\n",
    "    return [' '.join(sent) for sent in tokenized_sents]\n",
    "\n",
    "def fit_model(X_train, y_train):\n",
    "    model = RandomForestClassifier(n_estimators=10, criterion='gini')                \n",
    "    model.fit(X_train, y_train)\n",
    "    return model\n",
    "\n",
    "def test_model(model, X_test, y_test):\n",
    "    print('Accuracy: ', model.score(X_test, y_test))\n",
    "\n",
    "def classify(sents, target):\n",
    "    vectorizer = TfidfVectorizer(max_features=5000, binary=True)\n",
    "    X = vectorizer.fit_transform(sents)\n",
    "    X_train, X_test, y_train, y_test = train_test_split(X, target, test_size=0.25, random_state=42)\n",
    "    model = fit_model(X_train, y_train)\n",
    "    test_model(model, X_test, y_test)\n",
    "\n",
    "text, sentiment = read_data()\n",
    "stemmed_text = prepare_stems(text)\n",
    "unstemmed_text = prepare_no_stems(text)"
   ]
  },
  {
   "cell_type": "code",
   "execution_count": 93,
   "metadata": {},
   "outputs": [
    {
     "name": "stdout",
     "output_type": "stream",
     "text": [
      "Accuracy:  0.7497267759562841\n"
     ]
    }
   ],
   "source": [
    "classify(stemmed_text, sentiment)"
   ]
  },
  {
   "cell_type": "code",
   "execution_count": 94,
   "metadata": {},
   "outputs": [
    {
     "name": "stdout",
     "output_type": "stream",
     "text": [
      "Accuracy:  0.740983606557377\n"
     ]
    }
   ],
   "source": [
    "classify(unstemmed_text, sentiment)"
   ]
  },
  {
   "cell_type": "markdown",
   "metadata": {},
   "source": [
    "## What we didn't cover <a id='didnt'></a>"
   ]
  },
  {
   "cell_type": "markdown",
   "metadata": {},
   "source": [
    "### Distance\n",
    "\n",
    "NLTK has some functionality for calculating the distance between two strings. String distance is a measure of how different two strings are. For example:"
   ]
  },
  {
   "cell_type": "code",
   "execution_count": 252,
   "metadata": {},
   "outputs": [
    {
     "data": {
      "text/plain": [
       "1"
      ]
     },
     "execution_count": 252,
     "metadata": {},
     "output_type": "execute_result"
    }
   ],
   "source": [
    "nltk.edit_distance('hello', 'helo')"
   ]
  },
  {
   "cell_type": "code",
   "execution_count": 253,
   "metadata": {},
   "outputs": [
    {
     "data": {
      "text/plain": [
       "4"
      ]
     },
     "execution_count": 253,
     "metadata": {},
     "output_type": "execute_result"
    }
   ],
   "source": [
    "nltk.edit_distance('hello', 'hi')"
   ]
  },
  {
   "cell_type": "markdown",
   "metadata": {},
   "source": [
    "There are lots of different ways to measure edit distance. This method uses Levenshtein distance, which is the number of insertions, deletions and substitutions required to turn one string into another. Edit distance is useful if you're looking for spelling mistakes.\n",
    "\n",
    "The [fuzzywuzzy library](https://github.com/seatgeek/fuzzywuzzy) does a great job of edit distance too."
   ]
  },
  {
   "cell_type": "code",
   "execution_count": 254,
   "metadata": {},
   "outputs": [
    {
     "name": "stdout",
     "output_type": "stream",
     "text": [
      "Collecting fuzzywuzzy\n",
      "  Downloading fuzzywuzzy-0.16.0-py2.py3-none-any.whl\n",
      "Installing collected packages: fuzzywuzzy\n",
      "  Found existing installation: fuzzywuzzy 0.15.1\n",
      "    Uninstalling fuzzywuzzy-0.15.1:\n",
      "      Successfully uninstalled fuzzywuzzy-0.15.1\n",
      "Successfully installed fuzzywuzzy-0.16.0\n"
     ]
    }
   ],
   "source": [
    "!pip install -U fuzzywuzzy"
   ]
  },
  {
   "cell_type": "code",
   "execution_count": 259,
   "metadata": {},
   "outputs": [
    {
     "data": {
      "text/plain": [
       "False"
      ]
     },
     "execution_count": 259,
     "metadata": {},
     "output_type": "execute_result"
    }
   ],
   "source": [
    "'this is a test' == 'this is a test!'"
   ]
  },
  {
   "cell_type": "code",
   "execution_count": 260,
   "metadata": {},
   "outputs": [
    {
     "data": {
      "text/plain": [
       "97"
      ]
     },
     "execution_count": 260,
     "metadata": {},
     "output_type": "execute_result"
    }
   ],
   "source": [
    "from fuzzywuzzy import fuzz\n",
    "fuzz.ratio('this is a test', 'this is a test!')"
   ]
  },
  {
   "cell_type": "markdown",
   "metadata": {},
   "source": [
    "### Translation\n",
    "\n",
    "NLTK offers [some tools](https://github.com/nltk/nltk/tree/develop/nltk/translate) for machine translation. This is great for learning traditional translation models, but is out-dated. If you actually need to translate some text, currently I'd highly using the [Google Translate API](https://cloud.google.com/translate/docs/)."
   ]
  },
  {
   "cell_type": "markdown",
   "metadata": {},
   "source": [
    "### Text classification\n",
    "\n",
    "NLTK has [support for text classification](https://github.com/nltk/nltk/tree/develop/nltk/classify) using machine learning. However, I'd recommend using [scikit-learn](http://scikit-learn.org/stable/), [TensorFlow](https://www.tensorflow.org/) or [Keras](https://keras.io/) for this now."
   ]
  },
  {
   "cell_type": "markdown",
   "metadata": {},
   "source": [
    "### Chatbots\n",
    "\n",
    "These are mainly just for fun. But check out the [source code](https://github.com/nltk/nltk/tree/develop/nltk/chat) if you're ever interested in building a simple chatbot yourself."
   ]
  },
  {
   "cell_type": "code",
   "execution_count": 3,
   "metadata": {},
   "outputs": [],
   "source": [
    "# doesn't work so well in a Jupyter notebook because it requires interaction,\n",
    "# but try it in a terminal or IDE!\n",
    "#nltk.chat.chatbots()"
   ]
  }
 ],
 "metadata": {
  "anaconda-cloud": {},
  "kernelspec": {
   "display_name": "Python 3",
   "language": "python",
   "name": "python3"
  },
  "language_info": {
   "codemirror_mode": {
    "name": "ipython",
    "version": 3
   },
   "file_extension": ".py",
   "mimetype": "text/x-python",
   "name": "python",
   "nbconvert_exporter": "python",
   "pygments_lexer": "ipython3",
   "version": "3.6.1"
  }
 },
 "nbformat": 4,
 "nbformat_minor": 1
}
