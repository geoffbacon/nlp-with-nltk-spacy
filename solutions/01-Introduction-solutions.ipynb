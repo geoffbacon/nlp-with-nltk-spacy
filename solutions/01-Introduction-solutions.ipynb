{
 "cells": [
  {
   "cell_type": "markdown",
   "metadata": {},
   "source": [
    "# Introduction\n",
    "\n",
    "[This workshop](#this)<br>\n",
    "\n",
    "[Background](#background)<br>\n",
    "\n",
    "### Time\n",
    "- Teaching: 5 minutes"
   ]
  },
  {
   "cell_type": "markdown",
   "metadata": {},
   "source": [
    "## This workshop <a id='this'></a>\n",
    "\n",
    "In this workshop, we're going to:\n",
    "- Make sure you have NLTK and spaCy installed and working on your machine.\n",
    "- Introduce and practice using the main features of NLTK.\n",
    "- Introduce and practice using the main features of spaCy.\n",
    "- Use these new skills to solve some real-world problems.\n",
    "- Discuss the next steps for your applied NLP projects."
   ]
  },
  {
   "cell_type": "markdown",
   "metadata": {},
   "source": [
    "## Background <a id='background'></a>\n",
    "\n",
    "### NLTK\n",
    "\n",
    "- The [Natural Language ToolKit](http://www.nltk.org/) is a Python library for doing NLP.\n",
    "- It's free and open source software.\n",
    "- Around since [at least 2002](https://arxiv.org/pdf/cs/0205028.pdf). \n",
    "- Designed by researchers at the University of Pennsylvania to help them teach NLP/computational linguistics. \n",
    "- The main authors have written a book which simultaneously teaches some fundamentals of NLP and how to do them using NLTK. The book is available [online](http://www.nltk.org/book/) for free, or in print.\n",
    "- **Provides easy access to many corpora and lexical resources.**\n",
    "- **Intended for teaching NLP; excellent for people beginning with NLP.**\n",
    "- **Offers many different solutions to the same problem.**\n",
    "- **Does not focus on state-of-the-art performance.**\n",
    "\n",
    "### spaCy\n",
    "\n",
    "- [spaCy](https://spacy.io/) is a Python library for doing NLP.\n",
    "- It's free and open source software.\n",
    "- Around since at least 2014.\n",
    "- **Industrial-strength NLP**\n",
    "- **Provides single solution to a problem.**\n",
    "- **Focuses on state-of-the-art performance.**\n",
    "- **Focuses on ease of use.**\n",
    "\n",
    "### Upshot\n",
    "\n",
    "- Both are worth learning and using."
   ]
  }
 ],
 "metadata": {
  "anaconda-cloud": {},
  "kernelspec": {
   "display_name": "Python 3",
   "language": "python",
   "name": "python3"
  },
  "language_info": {
   "codemirror_mode": {
    "name": "ipython",
    "version": 3
   },
   "file_extension": ".py",
   "mimetype": "text/x-python",
   "name": "python",
   "nbconvert_exporter": "python",
   "pygments_lexer": "ipython3",
   "version": "3.6.1"
  }
 },
 "nbformat": 4,
 "nbformat_minor": 1
}
