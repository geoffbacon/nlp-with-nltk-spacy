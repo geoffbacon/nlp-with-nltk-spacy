{
 "cells": [
  {
   "cell_type": "markdown",
   "metadata": {},
   "source": [
    "# Installation\n",
    "\n",
    "Often, the packages we use are automatically installed when we install [Anaconda](https://www.anaconda.com/). For today, we're going to have to work a little harder. Make sure you're running Python 3!\n",
    "\n",
    "[Installing NLTK](#nltk)<br>\n",
    "\n",
    "[Installing spaCy](#spacy)<br>\n",
    "\n",
    "### Time\n",
    "- Teaching: 10 minutes"
   ]
  },
  {
   "cell_type": "markdown",
   "metadata": {},
   "source": [
    "## Installing NLTK <a id='nltk'></a>\n",
    "\n",
    "This is a two step process:\n",
    "- Install NLTK via pip\n",
    "- Download all NLTK data.\n",
    "\n",
    "Here's the official documentation for more info:\n",
    "- [Documentation for installing NLTK](http://www.nltk.org/install.html)\n",
    "- [Documentation for installing NLTK data](http://www.nltk.org/data.html)\n",
    "\n",
    "### Installing NLTK via pip\n",
    "\n",
    "Run this cell, even if you've already installed NLTK. It will either update you to the latest version, or tell you that you're all up to date."
   ]
  },
  {
   "cell_type": "code",
   "execution_count": 3,
   "metadata": {},
   "outputs": [
    {
     "name": "stdout",
     "output_type": "stream",
     "text": [
      "Requirement already up-to-date: nltk in /Library/Frameworks/Python.framework/Versions/3.6/lib/python3.6/site-packages\n",
      "Requirement already up-to-date: six in /Library/Frameworks/Python.framework/Versions/3.6/lib/python3.6/site-packages (from nltk)\n"
     ]
    }
   ],
   "source": [
    "!pip install -U nltk"
   ]
  },
  {
   "cell_type": "markdown",
   "metadata": {},
   "source": [
    "Run this next cell to check that it worked."
   ]
  },
  {
   "cell_type": "code",
   "execution_count": 11,
   "metadata": {},
   "outputs": [
    {
     "name": "stdout",
     "output_type": "stream",
     "text": [
      "NLTK works! Time to download the data.\n"
     ]
    }
   ],
   "source": [
    "import nltk\n",
    "print('NLTK works! Time to download the data.')"
   ]
  },
  {
   "cell_type": "markdown",
   "metadata": {},
   "source": [
    "### Downloading all NLTK data\n",
    "\n",
    "Run this next cell and let it down its thing."
   ]
  },
  {
   "cell_type": "code",
   "execution_count": null,
   "metadata": {},
   "outputs": [],
   "source": [
    "nltk.download('all')"
   ]
  },
  {
   "cell_type": "markdown",
   "metadata": {},
   "source": [
    "## Installing spaCy <a id='spacy'></a>\n",
    "\n",
    "Just like NLTK, to install spaCy we need to install the library and download some data. We can do this all in one line.\n",
    "\n",
    "[Official installation documentation](https://spacy.io/usage/)"
   ]
  },
  {
   "cell_type": "code",
   "execution_count": null,
   "metadata": {},
   "outputs": [],
   "source": [
    "!pip install -U spacy && python3 -m spacy download en"
   ]
  },
  {
   "cell_type": "code",
   "execution_count": 17,
   "metadata": {},
   "outputs": [
    {
     "name": "stdout",
     "output_type": "stream",
     "text": [
      "spaCy works!\n"
     ]
    }
   ],
   "source": [
    "import spacy\n",
    "print('spaCy works!')"
   ]
  },
  {
   "cell_type": "markdown",
   "metadata": {},
   "source": [
    "### Check versions"
   ]
  },
  {
   "cell_type": "code",
   "execution_count": 18,
   "metadata": {},
   "outputs": [
    {
     "name": "stdout",
     "output_type": "stream",
     "text": [
      "NLTK 3.2.5\n",
      "spaCy 2.0.9\n"
     ]
    }
   ],
   "source": [
    "import nltk\n",
    "import spacy\n",
    "print('NLTK {}'.format(nltk.__version__))\n",
    "print('spaCy {}'.format(spacy.__version__))"
   ]
  }
 ],
 "metadata": {
  "anaconda-cloud": {},
  "kernelspec": {
   "display_name": "Python 3",
   "language": "python",
   "name": "python3"
  },
  "language_info": {
   "codemirror_mode": {
    "name": "ipython",
    "version": 3
   },
   "file_extension": ".py",
   "mimetype": "text/x-python",
   "name": "python",
   "nbconvert_exporter": "python",
   "pygments_lexer": "ipython3",
   "version": "3.6.1"
  }
 },
 "nbformat": 4,
 "nbformat_minor": 1
}
